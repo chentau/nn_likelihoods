{
 "cells": [
  {
   "cell_type": "code",
   "execution_count": 1,
   "metadata": {},
   "outputs": [],
   "source": [
    "import numpy as np\n",
    "import pickle\n",
    "from cddm_data_simulation import ddm_simulate\n",
    "import itertools as it\n",
    "\n",
    "%matplotlib inline"
   ]
  },
  {
   "cell_type": "code",
   "execution_count": 6,
   "metadata": {},
   "outputs": [
    {
     "name": "stdout",
     "output_type": "stream",
     "text": [
      "loading neural network model\n"
     ]
    }
   ],
   "source": [
    "# Load neural network\n",
    "print(\"loading neural network model\")\n",
    "with open(\"dnn_weights.pickle\", 'rb') as f:\n",
    "    weights = pickle.load(f)\n",
    "\n",
    "with open(\"dnn_biases.pickle\", 'rb') as f:\n",
    "    biases = pickle.load(f)\n",
    "\n",
    "with open(\"dnn_activations.pickle\", 'rb') as f:\n",
    "    activations = pickle.load(f)\n",
    "\n",
    "def relu(x):\n",
    "    return np.maximum(0, x)\n",
    "\n",
    "def sigmoid(x):\n",
    "    return 1 / (1 + np.exp((-1) * x))\n",
    "\n",
    "def linear(x):\n",
    "    return x\n",
    "\n",
    "activation_fns = {\n",
    "        \"relu\":relu,\n",
    "        \"sigmoid\":sigmoid,\n",
    "        \"linear\":linear\n",
    "        }\n",
    "\n",
    "def np_predict(x, weights, biases, activations):\n",
    "    \"\"\"\n",
    "    Redefine the keras .predict function in numpy\n",
    "\n",
    "    Params\n",
    "    ------\n",
    "    x: np.array((*batch_size, n_input))\n",
    "        inputs to calculate the prediction for.\n",
    "        batch size is optional\n",
    "    weights: list of np.ndarray((n_input, n_hidden))\n",
    "        list of the weight matrices for each layer\n",
    "    biases: list of np.ndarray((n_hidden, ))\n",
    "        list of the biases for each layer. Must be of\n",
    "        same length as the weights list\n",
    "    activations: list of strings\n",
    "        list of the activations to apply for each layer\n",
    "    \"\"\"\n",
    "    num_layers = len(weights)\n",
    "    out = x\n",
    "    for l in range(num_layers):\n",
    "        out = np.dot(out, weights[l])\n",
    "        out += biases[l]\n",
    "        out = activation_fns[activations[l]](out)\n",
    "    return out\n",
    "\n",
    "def target(params, data):\n",
    "    params_rep = np.tile(params, (data.shape[0], 1))\n",
    "    input_batch = np.concatenate([params_rep, data], axis=1)\n",
    "    out = np_predict(input_batch, weights, biases, activations)\n",
    "    out[out <= 0] = 1e-28\n",
    "    return np.log(out).sum()"
   ]
  },
  {
   "cell_type": "code",
   "execution_count": 7,
   "metadata": {},
   "outputs": [],
   "source": [
    "# simulate data\n",
    "rts, choices, _ = ddm_simulate(n_samples=5000)\n",
    "choices = choices * (-1)\n",
    "data = np.concatenate([rts, choices], axis=1)"
   ]
  },
  {
   "cell_type": "code",
   "execution_count": 13,
   "metadata": {},
   "outputs": [],
   "source": [
    "def create_param_grid(true_params, perturbation = .01, num_points=1000):\n",
    "    grid = np.linspace((-1) * perturbation, perturbation, num_points)\n",
    "    param_grid = grid[:, np.newaxis] + true_params\n",
    "    return param_grid"
   ]
  },
  {
   "cell_type": "code",
   "execution_count": 19,
   "metadata": {},
   "outputs": [],
   "source": [
    "true_params = np.array([0, 1, .5])\n",
    "params_grid = create_param_grid(true_params, perturbation = .1)\n",
    "out = [target(param, data) for param in params_grid]"
   ]
  },
  {
   "cell_type": "code",
   "execution_count": 20,
   "metadata": {},
   "outputs": [
    {
     "data": {
      "text/plain": [
       "[<matplotlib.lines.Line2D at 0x7fe4bc1ba7b8>]"
      ]
     },
     "execution_count": 20,
     "metadata": {},
     "output_type": "execute_result"
    },
    {
     "data": {
      "image/png": "[encoded data removed]",
      "text/plain": [
       "<Figure size 432x288 with 1 Axes>"
      ]
     },
     "metadata": {
      "needs_background": "light"
     },
     "output_type": "display_data"
    }
   ],
   "source": [
    "plt.plot(np.linspace(-.1, .1, 1000), out)"
   ]
  },
  {
   "cell_type": "code",
   "execution_count": 17,
   "metadata": {},
   "outputs": [
    {
     "data": {
      "image/png": "[encoded data removed]",
      "text/plain": [
       "<Figure size 432x288 with 1 Axes>"
      ]
     },
     "metadata": {
      "needs_background": "light"
     },
     "output_type": "display_data"
    }
   ],
   "source": [
    "plt.plot(np.linspace(-.01, .01, 1000), out);"
   ]
  },
  {
   "cell_type": "code",
   "execution_count": 4,
   "metadata": {},
   "outputs": [],
   "source": [
    "# Evaluate nn on grid of parameters\n",
    "def create_grid(num_points=100):\n",
    "    v_grid = np.linspace(-1, 1, num_points)\n",
    "    a_grid = np.linspace(0, 1.5, num_points)\n",
    "    w_grid = np.linspace(0, 1, num_points)\n",
    "    \n",
    "    out = list(it.product(v_grid, a_grid, w_grid))\n",
    "    return out"
   ]
  },
  {
   "cell_type": "code",
   "execution_count": 11,
   "metadata": {},
   "outputs": [],
   "source": [
    "grid = create_grid(num_points=10)"
   ]
  },
  {
   "cell_type": "code",
   "execution_count": 25,
   "metadata": {},
   "outputs": [],
   "source": [
    "def evaluate_grid(grid, data):\n",
    "    out = []\n",
    "    for params in grid:\n",
    "        params_rep = np.tile(np.array(params), (data.shape[0], 1))\n",
    "        input_batch = np.concatenate([params_rep, data], axis=1)\n",
    "        lp = np_predict(input_batch, weights, biases, activations)\n",
    "        lp[lp <= 0] = 1e-28\n",
    "        out.append(np.log(lp).sum())\n",
    "    return out"
   ]
  },
  {
   "cell_type": "code",
   "execution_count": 27,
   "metadata": {},
   "outputs": [],
   "source": [
    "out = evaluate_grid(grid, data)"
   ]
  },
  {
   "cell_type": "code",
   "execution_count": 48,
   "metadata": {},
   "outputs": [
    {
     "data": {
      "text/plain": [
       "[<matplotlib.lines.Line2D at 0x7f254e6f40b8>]"
      ]
     },
     "execution_count": 48,
     "metadata": {},
     "output_type": "execute_result"
    },
    {
     "data": {
      "text/plain": [
       "[<matplotlib.lines.Line2D at 0x7f254e6f4048>]"
      ]
     },
     "execution_count": 48,
     "metadata": {},
     "output_type": "execute_result"
    },
    {
     "data": {
      "text/plain": [
       "[<matplotlib.lines.Line2D at 0x7f254e6f44a8>]"
      ]
     },
     "execution_count": 48,
     "metadata": {},
     "output_type": "execute_result"
    },
    {
     "data": {
      "text/plain": [
       "[<matplotlib.lines.Line2D at 0x7f254e6f45f8>]"
      ]
     },
     "execution_count": 48,
     "metadata": {},
     "output_type": "execute_result"
    },
    {
     "data": {
      "image/png": "[encoded data removed]",
      "text/plain": [
       "<Figure size 432x288 with 4 Axes>"
      ]
     },
     "metadata": {
      "needs_background": "light"
     },
     "output_type": "display_data"
    }
   ],
   "source": [
    "# Varying w, holding all other parameters constant\n",
    "fig, [[ax1, ax2], [ax3, ax4]] = plt.subplots(nrows=2, ncols=2)\n",
    "ax1.plot(out[0:10])\n",
    "ax2.plot(out[10:20])\n",
    "ax3.plot(out[20:30])\n",
    "ax4.plot(out[30:40])"
   ]
  },
  {
   "cell_type": "code",
   "execution_count": null,
   "metadata": {},
   "outputs": [],
   "source": []
  }
 ],
 "metadata": {
  "kernelspec": {
   "display_name": "Python 3",
   "language": "python",
   "name": "python3"
  },
  "language_info": {
   "codemirror_mode": {
    "name": "ipython",
    "version": 3
   },
   "file_extension": ".py",
   "mimetype": "text/x-python",
   "name": "python",
   "nbconvert_exporter": "python",
   "pygments_lexer": "ipython3",
   "version": "3.6.8"
  }
 },
 "nbformat": 4,
 "nbformat_minor": 2
}
